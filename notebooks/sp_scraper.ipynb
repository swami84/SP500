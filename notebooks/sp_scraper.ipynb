{
 "cells": [
  {
   "cell_type": "code",
   "execution_count": 7,
   "id": "1948d5b7",
   "metadata": {},
   "outputs": [],
   "source": [
    "import os\n",
    "import time\n",
    "import datetime\n",
    "import warnings\n",
    "import json\n",
    "\n",
    "import pandas as pd\n",
    "warnings.filterwarnings('ignore')\n",
    "from selenium.webdriver.common.by import By\n",
    "from selenium import webdriver\n",
    "# from selenium.webdriver.chrome.options import Options\n",
    "# from selenium.webdriver.chrome.service import Service\n",
    "from selenium.webdriver.firefox.options import Options\n",
    "from selenium.webdriver.firefox.service import Service\n",
    "from selenium.webdriver.common.keys import Keys"
   ]
  },
  {
   "cell_type": "code",
   "execution_count": 10,
   "id": "19b34fac",
   "metadata": {},
   "outputs": [],
   "source": [
    "def get_driver(debug=False):\n",
    "        ff_options = Options()\n",
    "        if not debug:\n",
    "            ff_options.add_argument(\"--headless\")\n",
    "            ff_options.add_argument('--no-sandbox')\n",
    "        else:\n",
    "            ff_options.add_argument(\"--window-size=1366,768\")\n",
    "            ff_options.add_argument('--no-sandbox')\n",
    "\n",
    "        ff_options.add_argument(\"--disable-notifications\")\n",
    "        ff_options.add_argument(\"--disable-extensions\")\n",
    "        ff_options.add_argument('--disable-gpu')\n",
    "        ff_options.add_argument(\"--lang=en-US\")\n",
    "#         ff_options.add_experimental_option(\"excludeSwitches\", [\"enable-automation\"])\n",
    "#         ff_options.add_experimental_option('useAutomationExtension', False)\n",
    "\n",
    "        ff_options.add_argument('--disable-blink-features=AutomationControlled')\n",
    "        service = Service(executable_path='../config/geckodriver.exe')\n",
    "        driver = webdriver.Firefox(service=service, options=ff_options)\n",
    "        return driver"
   ]
  },
  {
   "cell_type": "code",
   "execution_count": 12,
   "id": "7c2de16e",
   "metadata": {},
   "outputs": [],
   "source": [
    "driver = get_driver(debug=True)"
   ]
  },
  {
   "cell_type": "code",
   "execution_count": 13,
   "id": "dc0e345e",
   "metadata": {},
   "outputs": [],
   "source": [
    "url = 'https://www.slickcharts.com/sp500'\n",
    "driver.get(url)"
   ]
  },
  {
   "cell_type": "code",
   "execution_count": 29,
   "id": "71aed174",
   "metadata": {},
   "outputs": [],
   "source": [
    "stock_table = driver.find_elements(By.XPATH, '//table')[0]\n",
    "table_header  = stock_table.find_element(By.XPATH, './/thead')\n",
    "columns = []\n",
    "for col in table_header.find_elements(By.XPATH, './/th[@scope=\"col\"]'):\n",
    "    columns.append(col.text)\n",
    "\n",
    "table_body = stock_table.find_element(By.XPATH, './/tbody')\n",
    "rows = table_body.find_elements(By.XPATH, './/tr')\n",
    "stock_info = []\n",
    "for row in rows:\n",
    "    rows_atts = row.find_elements(By.XPATH, './/td')\n",
    "    row_dict = {}\n",
    "    for att, col in zip(rows_atts,columns):\n",
    "        row_dict[col] = att.text\n",
    "    stock_info.append(row_dict)"
   ]
  },
  {
   "cell_type": "code",
   "execution_count": 35,
   "id": "d1afdbbf",
   "metadata": {},
   "outputs": [],
   "source": [
    "df = pd.DataFrame(stock_info)\n",
    "df['Portfolio%'] = df['Portfolio%'].str.replace('%','').astype(float)\n",
    "df.to_csv('./data/SP500_weightage.csv')"
   ]
  },
  {
   "cell_type": "code",
   "execution_count": null,
   "id": "a2a17cb8",
   "metadata": {},
   "outputs": [],
   "source": []
  }
 ],
 "metadata": {
  "kernelspec": {
   "display_name": "Python 3 (ipykernel)",
   "language": "python",
   "name": "python3"
  },
  "language_info": {
   "codemirror_mode": {
    "name": "ipython",
    "version": 3
   },
   "file_extension": ".py",
   "mimetype": "text/x-python",
   "name": "python",
   "nbconvert_exporter": "python",
   "pygments_lexer": "ipython3",
   "version": "3.9.16"
  }
 },
 "nbformat": 4,
 "nbformat_minor": 5
}
